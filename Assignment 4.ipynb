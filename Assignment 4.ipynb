{
 "cells": [
  {
   "cell_type": "code",
   "execution_count": 1,
   "id": "a23c4da3",
   "metadata": {},
   "outputs": [
    {
     "name": "stdout",
     "output_type": "stream",
     "text": [
      "       >>>>>>Calculator<<<<<<<\n",
      "\n",
      "What operations want do you want to perform? \n",
      "1 Addition. \n",
      "2.Substraction. \n",
      "3.Multiplication. \n",
      "4.Division. \n",
      "5.Power.\n",
      "Operation Enter:  1\n",
      "Enter First Number: 1\n",
      "Enter Second Number: 1\n",
      "------------------------------\n",
      "Addition Answer is: 2\n",
      "------------------------------\n"
     ]
    }
   ],
   "source": [
    "#1.Make a calculator using Python with addition , subtraction , multiplication ,division and power.\n",
    "\n",
    "\n",
    "print(\"       >>>>>>Calculator<<<<<<<\\n\")\n",
    "operation =int(input(\"What operations want do you want to perform? \\n1 Addition. \\n2.Substraction. \\n3.Multiplication. \\n4.Division. \\n5.Power.\\nOperation Enter:  \"))\n",
    "\n",
    "num1=int(input(\"Enter First Number: \"))\n",
    "num2=int(input(\"Enter Second Number: \"))\n",
    "\n",
    "print(\"------------------------------\")\n",
    "if(operation==1):\n",
    "    print(\"Addition Answer is:\", num1+num2)\n",
    "elif(operation==2):\n",
    "    print(\"Substraction Answer is:\", num1-num2)\n",
    "elif(operation==3):\n",
    "    print(\"Multiplication Answer is:\", num1*num2)\n",
    "elif(operation==4):\n",
    "    print(\"Division Answer is:\", num1/num2)\n",
    "elif(operation==5):\n",
    "    print(\"Power Answer is:\", num1**num2)\n",
    "print(\"------------------------------\")\n"
   ]
  },
  {
   "cell_type": "code",
   "execution_count": 2,
   "id": "d706e1b0",
   "metadata": {},
   "outputs": [
    {
     "name": "stdout",
     "output_type": "stream",
     "text": [
      "1\n",
      "2\n",
      "3\n",
      "4\n"
     ]
    }
   ],
   "source": [
    "# 2.Write a program to check if there is any numeric value in list using for loop.\n",
    "\n",
    "list = [\"a\",1,\"b\",2,\"c\",3,\"d\",4,] \n",
    "for i in list: \n",
    "    if type(i) == int: \n",
    "        print(i)"
   ]
  },
  {
   "cell_type": "code",
   "execution_count": 3,
   "id": "c6286293",
   "metadata": {},
   "outputs": [
    {
     "name": "stdout",
     "output_type": "stream",
     "text": [
      "Add key into Dictionary:\n",
      "\n",
      "Before Update: {0: 8, 4: 24}\n",
      "After Update: {0: 8, 4: 24, 3: 30}\n"
     ]
    }
   ],
   "source": [
    "# 3.Write a Python script to add a key to a dictionary.\n",
    "\n",
    "print(\"Add key into Dictionary:\\n\")\n",
    "d={0:8,4:24}\n",
    "print(\"Before Update:\",d)\n",
    "\n",
    "d.update({3:30})\n",
    "print(\"After Update:\",d)"
   ]
  },
  {
   "cell_type": "code",
   "execution_count": 5,
   "id": "7d29b300",
   "metadata": {},
   "outputs": [
    {
     "name": "stdout",
     "output_type": "stream",
     "text": [
      "Sum of the Value is: 600\n"
     ]
    }
   ],
   "source": [
    "# 4.Write a Python program to sum all the numeric items in a dictionary.\n",
    "d = {'apple':200, 'Mango':100, 'ornage':50, 'pinnepale':250}\n",
    "print(\"Sum of the Value is:\",sum(d.values()))\n",
    "\n"
   ]
  },
  {
   "cell_type": "code",
   "execution_count": 6,
   "id": "bb86c9d1",
   "metadata": {},
   "outputs": [
    {
     "name": "stdout",
     "output_type": "stream",
     "text": [
      "Duplicate values in List:\n",
      "\n",
      "2\n",
      "5\n"
     ]
    }
   ],
   "source": [
    "#5.Write a program to identify duplicate values from list.\n",
    "\n",
    "lst1=[1,2,3,2,5,6,5]\n",
    "lst2=[]\n",
    "\n",
    "print(\"Duplicate values in List:\\n\")\n",
    "for i in lst1:\n",
    "    if i not in lst2:\n",
    "        lst2.append(i)\n",
    "    else:\n",
    "        print(i)"
   ]
  },
  {
   "cell_type": "code",
   "execution_count": 7,
   "id": "70d039a3",
   "metadata": {},
   "outputs": [
    {
     "name": "stdout",
     "output_type": "stream",
     "text": [
      "Duplicate value exist\n"
     ]
    }
   ],
   "source": [
    "# 6.Write a Python script to check if a given key already exists in a dictionary\n",
    "\n",
    "d1={0,2,3,5,7,9,11,15,18} \n",
    "def is_key_present(x):\n",
    "    if x in d1:\n",
    "        print(\"Duplicate value exist\")\n",
    "    else:\n",
    "        print(\"No duplicate value exist\")\n",
    "        \n",
    "is_key_present(15)\n"
   ]
  },
  {
   "cell_type": "code",
   "execution_count": null,
   "id": "4b1af60d",
   "metadata": {},
   "outputs": [],
   "source": []
  }
 ],
 "metadata": {
  "kernelspec": {
   "display_name": "Python 3",
   "language": "python",
   "name": "python3"
  },
  "language_info": {
   "codemirror_mode": {
    "name": "ipython",
    "version": 3
   },
   "file_extension": ".py",
   "mimetype": "text/x-python",
   "name": "python",
   "nbconvert_exporter": "python",
   "pygments_lexer": "ipython3",
   "version": "3.8.8"
  }
 },
 "nbformat": 4,
 "nbformat_minor": 5
}
